{
 "cells": [
  {
   "cell_type": "code",
   "execution_count": 42,
   "id": "2c3effca",
   "metadata": {
    "scrolled": true
   },
   "outputs": [],
   "source": [
    "import sys\n",
    "sys.path.append(\"..\")\n",
    "\n",
    "import matplotlib.pyplot as plt\n",
    "from utils.data_loader import *\n",
    "#from models.ranking import *\n",
    "\n",
    "# First time download\n",
    "#nltk.download('popular')"
   ]
  },
  {
   "cell_type": "code",
   "execution_count": 43,
   "id": "133e000d",
   "metadata": {},
   "outputs": [],
   "source": [
    "from utils.to_json import from_in_input_data\n",
    "from utils.logger import get_logger\n",
    "from utils.data_loader import QuestionLoader"
   ]
  },
  {
   "cell_type": "code",
   "execution_count": 44,
   "id": "8e6ec919",
   "metadata": {},
   "outputs": [
    {
     "ename": "FileNotFoundError",
     "evalue": "[Errno 2] No such file or directory: 'data/raw/Validation/MEDIQA2021_Task2_ValidationSet_Answers.xls'",
     "output_type": "error",
     "traceback": [
      "\u001B[0;31m---------------------------------------------------------------------------\u001B[0m",
      "\u001B[0;31mFileNotFoundError\u001B[0m                         Traceback (most recent call last)",
      "File \u001B[0;32m~/Code/KLTN/OntologyXSummarization/notebooks/../utils/to_json.py:106\u001B[0m, in \u001B[0;36mfrom_in_input_data\u001B[0;34m(type, input_path)\u001B[0m\n\u001B[1;32m    105\u001B[0m \u001B[38;5;28;01mtry\u001B[39;00m:\n\u001B[0;32m--> 106\u001B[0m     rs \u001B[38;5;241m=\u001B[39m json\u001B[38;5;241m.\u001B[39mload(\u001B[38;5;28;43mopen\u001B[39;49m\u001B[43m(\u001B[49m\u001B[43mout_path\u001B[49m\u001B[43m \u001B[49m\u001B[38;5;241;43m+\u001B[39;49m\u001B[43m \u001B[49m\u001B[43msource_file_name\u001B[49m\u001B[43m,\u001B[49m\u001B[43m \u001B[49m\u001B[38;5;124;43m'\u001B[39;49m\u001B[38;5;124;43mr\u001B[39;49m\u001B[38;5;124;43m'\u001B[39;49m\u001B[43m,\u001B[49m\u001B[43m \u001B[49m\u001B[43mencoding\u001B[49m\u001B[38;5;241;43m=\u001B[39;49m\u001B[38;5;124;43m'\u001B[39;49m\u001B[38;5;124;43mutf8\u001B[39;49m\u001B[38;5;124;43m'\u001B[39;49m\u001B[43m)\u001B[49m)\n\u001B[1;32m    107\u001B[0m     get_logger(\u001B[38;5;18m__file__\u001B[39m)\u001B[38;5;241m.\u001B[39minfo(\u001B[38;5;124m'\u001B[39m\u001B[38;5;132;01m{}\u001B[39;00m\u001B[38;5;124m found! Input data loaded from this directory!\u001B[39m\u001B[38;5;124m'\u001B[39m\u001B[38;5;241m.\u001B[39mformat(path \u001B[38;5;241m+\u001B[39m source_file_name))\n",
      "\u001B[0;31mFileNotFoundError\u001B[0m: [Errno 2] No such file or directory: 'data/raw_json/validation_raw.json'",
      "\nDuring handling of the above exception, another exception occurred:\n",
      "\u001B[0;31mFileNotFoundError\u001B[0m                         Traceback (most recent call last)",
      "Input \u001B[0;32mIn [44]\u001B[0m, in \u001B[0;36m<cell line: 3>\u001B[0;34m()\u001B[0m\n\u001B[1;32m      1\u001B[0m data_type \u001B[38;5;241m=\u001B[39m \u001B[38;5;124m'\u001B[39m\u001B[38;5;124mVAL\u001B[39m\u001B[38;5;124m'\u001B[39m\n\u001B[1;32m      2\u001B[0m name \u001B[38;5;241m=\u001B[39m \u001B[38;5;124m'\u001B[39m\u001B[38;5;124mvalidation\u001B[39m\u001B[38;5;124m'\u001B[39m\n\u001B[0;32m----> 3\u001B[0m input_data \u001B[38;5;241m=\u001B[39m \u001B[43mfrom_in_input_data\u001B[49m\u001B[43m(\u001B[49m\u001B[38;5;28;43mtype\u001B[39;49m\u001B[38;5;241;43m=\u001B[39;49m\u001B[43mdata_type\u001B[49m\u001B[43m)\u001B[49m\n\u001B[1;32m      4\u001B[0m logger\u001B[38;5;241m.\u001B[39minfo(\u001B[38;5;124m'\u001B[39m\u001B[38;5;124mvalidation raw loaded!\u001B[39m\u001B[38;5;124m'\u001B[39m)\n\u001B[1;32m      5\u001B[0m input_data \u001B[38;5;241m=\u001B[39m QuestionLoader(name)\u001B[38;5;241m.\u001B[39mextract_json(input_data)\n",
      "File \u001B[0;32m~/Code/KLTN/OntologyXSummarization/notebooks/../utils/to_json.py:109\u001B[0m, in \u001B[0;36mfrom_in_input_data\u001B[0;34m(type, input_path)\u001B[0m\n\u001B[1;32m    107\u001B[0m     get_logger(\u001B[38;5;18m__file__\u001B[39m)\u001B[38;5;241m.\u001B[39minfo(\u001B[38;5;124m'\u001B[39m\u001B[38;5;132;01m{}\u001B[39;00m\u001B[38;5;124m found! Input data loaded from this directory!\u001B[39m\u001B[38;5;124m'\u001B[39m\u001B[38;5;241m.\u001B[39mformat(path \u001B[38;5;241m+\u001B[39m source_file_name))\n\u001B[1;32m    108\u001B[0m \u001B[38;5;28;01mexcept\u001B[39;00m \u001B[38;5;167;01mFileNotFoundError\u001B[39;00m:\n\u001B[0;32m--> 109\u001B[0m     ans \u001B[38;5;241m=\u001B[39m \u001B[43mprocess_answers\u001B[49m\u001B[43m(\u001B[49m\u001B[43minput_path\u001B[49m\u001B[43m \u001B[49m\u001B[38;5;241;43m+\u001B[39;49m\u001B[43m \u001B[49m\u001B[43manswer_file_name\u001B[49m\u001B[43m)\u001B[49m\n\u001B[1;32m    110\u001B[0m     ext \u001B[38;5;241m=\u001B[39m split__(input_path \u001B[38;5;241m+\u001B[39m ext_multisumm_file_name)\n\u001B[1;32m    111\u001B[0m     ques \u001B[38;5;241m=\u001B[39m split__(input_path \u001B[38;5;241m+\u001B[39m ques_file_name)\n",
      "File \u001B[0;32m~/Code/KLTN/OntologyXSummarization/notebooks/../utils/to_json.py:18\u001B[0m, in \u001B[0;36mprocess_answers\u001B[0;34m(file_path)\u001B[0m\n\u001B[1;32m     17\u001B[0m \u001B[38;5;28;01mdef\u001B[39;00m \u001B[38;5;21mprocess_answers\u001B[39m(file_path):\n\u001B[0;32m---> 18\u001B[0m     wb \u001B[38;5;241m=\u001B[39m \u001B[43mxlrd\u001B[49m\u001B[38;5;241;43m.\u001B[39;49m\u001B[43mopen_workbook\u001B[49m\u001B[43m(\u001B[49m\u001B[43mfile_path\u001B[49m\u001B[43m)\u001B[49m\n\u001B[1;32m     19\u001B[0m     sheet \u001B[38;5;241m=\u001B[39m wb\u001B[38;5;241m.\u001B[39msheets()[\u001B[38;5;241m0\u001B[39m]\n\u001B[1;32m     20\u001B[0m     \u001B[38;5;66;03m# sheet = wb.sheet_by_name('MEDIQA2021_Task2_ValidationSet_')\u001B[39;00m\n",
      "File \u001B[0;32m~/miniforge3/envs/SumxOnto/lib/python3.8/site-packages/xlrd/__init__.py:166\u001B[0m, in \u001B[0;36mopen_workbook\u001B[0;34m(filename, logfile, verbosity, use_mmap, file_contents, encoding_override, formatting_info, on_demand, ragged_rows, ignore_workbook_corruption)\u001B[0m\n\u001B[1;32m     84\u001B[0m \u001B[38;5;28;01mdef\u001B[39;00m \u001B[38;5;21mopen_workbook\u001B[39m(filename\u001B[38;5;241m=\u001B[39m\u001B[38;5;28;01mNone\u001B[39;00m,\n\u001B[1;32m     85\u001B[0m                   logfile\u001B[38;5;241m=\u001B[39msys\u001B[38;5;241m.\u001B[39mstdout,\n\u001B[1;32m     86\u001B[0m                   verbosity\u001B[38;5;241m=\u001B[39m\u001B[38;5;241m0\u001B[39m,\n\u001B[0;32m   (...)\u001B[0m\n\u001B[1;32m     93\u001B[0m                   ignore_workbook_corruption\u001B[38;5;241m=\u001B[39m\u001B[38;5;28;01mFalse\u001B[39;00m\n\u001B[1;32m     94\u001B[0m                   ):\n\u001B[1;32m     95\u001B[0m     \u001B[38;5;124;03m\"\"\"\u001B[39;00m\n\u001B[1;32m     96\u001B[0m \u001B[38;5;124;03m    Open a spreadsheet file for data extraction.\u001B[39;00m\n\u001B[1;32m     97\u001B[0m \n\u001B[0;32m   (...)\u001B[0m\n\u001B[1;32m    163\u001B[0m \u001B[38;5;124;03m    :returns: An instance of the :class:`~xlrd.book.Book` class.\u001B[39;00m\n\u001B[1;32m    164\u001B[0m \u001B[38;5;124;03m    \"\"\"\u001B[39;00m\n\u001B[0;32m--> 166\u001B[0m     file_format \u001B[38;5;241m=\u001B[39m \u001B[43minspect_format\u001B[49m\u001B[43m(\u001B[49m\u001B[43mfilename\u001B[49m\u001B[43m,\u001B[49m\u001B[43m \u001B[49m\u001B[43mfile_contents\u001B[49m\u001B[43m)\u001B[49m\n\u001B[1;32m    167\u001B[0m     \u001B[38;5;66;03m# We have to let unknown file formats pass through here, as some ancient\u001B[39;00m\n\u001B[1;32m    168\u001B[0m     \u001B[38;5;66;03m# files that xlrd can parse don't start with the expected signature.\u001B[39;00m\n\u001B[1;32m    169\u001B[0m     \u001B[38;5;28;01mif\u001B[39;00m file_format \u001B[38;5;129;01mand\u001B[39;00m file_format \u001B[38;5;241m!=\u001B[39m \u001B[38;5;124m'\u001B[39m\u001B[38;5;124mxls\u001B[39m\u001B[38;5;124m'\u001B[39m:\n",
      "File \u001B[0;32m~/miniforge3/envs/SumxOnto/lib/python3.8/site-packages/xlrd/__init__.py:60\u001B[0m, in \u001B[0;36minspect_format\u001B[0;34m(path, content)\u001B[0m\n\u001B[1;32m     58\u001B[0m \u001B[38;5;28;01melse\u001B[39;00m:\n\u001B[1;32m     59\u001B[0m     path \u001B[38;5;241m=\u001B[39m os\u001B[38;5;241m.\u001B[39mpath\u001B[38;5;241m.\u001B[39mexpanduser(path)\n\u001B[0;32m---> 60\u001B[0m     \u001B[38;5;28;01mwith\u001B[39;00m \u001B[38;5;28;43mopen\u001B[39;49m\u001B[43m(\u001B[49m\u001B[43mpath\u001B[49m\u001B[43m,\u001B[49m\u001B[43m \u001B[49m\u001B[38;5;124;43m\"\u001B[39;49m\u001B[38;5;124;43mrb\u001B[39;49m\u001B[38;5;124;43m\"\u001B[39;49m\u001B[43m)\u001B[49m \u001B[38;5;28;01mas\u001B[39;00m f:\n\u001B[1;32m     61\u001B[0m         peek \u001B[38;5;241m=\u001B[39m f\u001B[38;5;241m.\u001B[39mread(PEEK_SIZE)\n\u001B[1;32m     63\u001B[0m \u001B[38;5;28;01mif\u001B[39;00m peek\u001B[38;5;241m.\u001B[39mstartswith(XLS_SIGNATURE):\n",
      "\u001B[0;31mFileNotFoundError\u001B[0m: [Errno 2] No such file or directory: 'data/raw/Validation/MEDIQA2021_Task2_ValidationSet_Answers.xls'"
     ]
    }
   ],
   "source": [
    "data_type = 'VAL'\n",
    "name = 'validation'\n",
    "input_data = from_in_input_data(type=data_type)\n",
    "logger.info('validation raw loaded!')\n",
    "input_data = QuestionLoader(name).extract_json(input_data)\n",
    "logger.info('data was preprocessed!')\n",
    "BERT_DICTIONARY.push(preprocessing_js=input_data)\n",
    "logger.info('embedding data added!')"
   ]
  },
  {
   "cell_type": "code",
   "execution_count": null,
   "id": "fa523fc4",
   "metadata": {},
   "outputs": [],
   "source": []
  }
 ],
 "metadata": {
  "kernelspec": {
   "display_name": "SumxOnto",
   "language": "python",
   "name": "sumxonto"
  },
  "language_info": {
   "codemirror_mode": {
    "name": "ipython",
    "version": 3
   },
   "file_extension": ".py",
   "mimetype": "text/x-python",
   "name": "python",
   "nbconvert_exporter": "python",
   "pygments_lexer": "ipython3",
   "version": "3.8.12"
  }
 },
 "nbformat": 4,
 "nbformat_minor": 5
}